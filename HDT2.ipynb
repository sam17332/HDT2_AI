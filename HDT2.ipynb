{
 "cells": [
  {
   "cell_type": "markdown",
   "metadata": {},
   "source": [
    "# Redes Neuronales"
   ]
  },
  {
   "cell_type": "markdown",
   "metadata": {},
   "source": [
    "# Hoja de trabajo # 2"
   ]
  },
  {
   "cell_type": "markdown",
   "metadata": {},
   "source": [
    "### Rodrigo Samayoa"
   ]
  },
  {
   "cell_type": "markdown",
   "metadata": {},
   "source": [
    "### 17332"
   ]
  },
  {
   "cell_type": "markdown",
   "metadata": {},
   "source": [
    "Imports necesarios"
   ]
  },
  {
   "cell_type": "code",
   "execution_count": 32,
   "metadata": {},
   "outputs": [],
   "source": [
    "import mnist_reader\n",
    "import numpy as np\n",
    "from scipy import optimize as op\n",
    "from functools import reduce\n",
    "from funcionesRedes import *"
   ]
  },
  {
   "cell_type": "markdown",
   "metadata": {},
   "source": [
    "Lectura de CSV's"
   ]
  },
  {
   "cell_type": "code",
   "execution_count": 33,
   "metadata": {},
   "outputs": [],
   "source": [
    "X_train, y_train = mnist_reader.load_mnist('', kind='train')\n",
    "X_test, y_test = mnist_reader.load_mnist('', kind='t10k')"
   ]
  },
  {
   "cell_type": "markdown",
   "metadata": {},
   "source": [
    "Normalizacion de data y obtención de dimensiones"
   ]
  },
  {
   "cell_type": "code",
   "execution_count": 34,
   "metadata": {},
   "outputs": [],
   "source": [
    "X = X_train/1000.0\n",
    "m,n = X.shape\n",
    "y = y_train.reshape(m,1)\n",
    "Y = (y == np.array(range(10))).astype(int)"
   ]
  },
  {
   "cell_type": "code",
   "execution_count": 35,
   "metadata": {},
   "outputs": [],
   "source": [
    "NET = np.array([\n",
    "        n,\n",
    "        130,\n",
    "        10\n",
    "    ])\n",
    "theta_shapes = np.hstack((\n",
    "    NET[1:].reshape(len(NET)-1, 1),\n",
    "    (NET[:-1]+1).reshape(len(NET)-1,1)\n",
    "))\n",
    "\n",
    "\n",
    "flat_thetas = flatten_list_of_arrays([\n",
    "    np.random.rand(*theta_shape)*0.01\n",
    "    for theta_shape in theta_shapes\n",
    "])"
   ]
  },
  {
   "cell_type": "markdown",
   "metadata": {},
   "source": [
    "# Desarrollo de Red Neuronal"
   ]
  },
  {
   "cell_type": "markdown",
   "metadata": {},
   "source": [
    "No correr esta parte del codigo ya que tarda entre 3 a 5 horas."
   ]
  },
  {
   "cell_type": "markdown",
   "metadata": {},
   "source": [
    "-----------------------------------------------------------------------------"
   ]
  },
  {
   "cell_type": "code",
   "execution_count": null,
   "metadata": {},
   "outputs": [],
   "source": [
    "print(\"\\n---------------- OPTIMIZING ----------------\\n\")\n",
    "result = op.minimize(\n",
    "    fun = cost_function,\n",
    "    x0 = flat_thetas,\n",
    "    args = (theta_shapes, X, Y),\n",
    "    method = 'L-BFGS-B',\n",
    "    jac = prediction_calculation,\n",
    "    options = {'disp': True, 'maxiter': 900}\n",
    ")\n",
    "print(\"\\n---------------- OPTIMIZED ----------------\\n\")"
   ]
  },
  {
   "cell_type": "markdown",
   "metadata": {},
   "source": [
    "Se guardan las thetas en un txt"
   ]
  },
  {
   "cell_type": "code",
   "execution_count": null,
   "metadata": {},
   "outputs": [],
   "source": [
    "np.savetxt('thetas_optimizadas.txt', result.x,delimiter=',') \n",
    "#(NO correr: dará error porque la variable result (que se define arriba) \n",
    "#no existe ya que se tiene que correr lo de arriba primero)"
   ]
  },
  {
   "cell_type": "markdown",
   "metadata": {},
   "source": [
    "-----------------------------------------------------------------------------"
   ]
  },
  {
   "cell_type": "markdown",
   "metadata": {},
   "source": [
    "Se cargan los thetas del txt"
   ]
  },
  {
   "cell_type": "code",
   "execution_count": 36,
   "metadata": {},
   "outputs": [
    {
     "data": {
      "text/plain": [
       "103360"
      ]
     },
     "execution_count": 36,
     "metadata": {},
     "output_type": "execute_result"
    }
   ],
   "source": [
    "thetaResult = np.loadtxt('thetas_optimizadas.txt')\n",
    "thetaResult.size"
   ]
  },
  {
   "cell_type": "markdown",
   "metadata": {},
   "source": [
    "# Prueba"
   ]
  },
  {
   "cell_type": "code",
   "execution_count": 37,
   "metadata": {},
   "outputs": [],
   "source": [
    "X_test = X_test/1000\n",
    "mT,nT = X_test.shape\n",
    "y_test = y_test.reshape(mT,1)"
   ]
  },
  {
   "cell_type": "code",
   "execution_count": 38,
   "metadata": {},
   "outputs": [],
   "source": [
    "result_flat_thetas = thetaResult"
   ]
  },
  {
   "cell_type": "code",
   "execution_count": 39,
   "metadata": {},
   "outputs": [],
   "source": [
    "super_thetas_result = inflate_matrixes(result_flat_thetas, theta_shapes)\n",
    "a_result = feed_forward(super_thetas_result, X_test)"
   ]
  },
  {
   "cell_type": "code",
   "execution_count": 40,
   "metadata": {},
   "outputs": [
    {
     "name": "stdout",
     "output_type": "stream",
     "text": [
      "éxito: 88.22 %\n",
      "fallo: 11.780000000000001 %\n"
     ]
    }
   ],
   "source": [
    "maximos = np.argmax(a_result[-1], axis = 1)\n",
    "accuracy = 0\n",
    "for i in range(len(a_result[-1])):\n",
    "    if(maximos[i] == y_test[i][0]):\n",
    "        accuracy += 1\n",
    "success = accuracy*100/len(a_result[-1])\n",
    "failure = 100.0 - success\n",
    "print(\"éxito:\", success, \"%\")\n",
    "print(\"fallo:\", failure, \"%\")"
   ]
  },
  {
   "cell_type": "markdown",
   "metadata": {},
   "source": [
    "# Analisis"
   ]
  },
  {
   "cell_type": "markdown",
   "metadata": {},
   "source": [
    "Como se puede observar el porcentaje de exito del modelo fue de 88.22%, por lo que se puede decir que el modelo es un buen modelo ya que entreno de una manera correcta. El modelo consiste de una capa oculta con 130 neuronas, solo se utilizo una capa oculpa ya que se nos dijo que el modelo no tenia que ser tan complejo. "
   ]
  }
 ],
 "metadata": {
  "kernelspec": {
   "display_name": "Python 3",
   "language": "python",
   "name": "python3"
  },
  "language_info": {
   "codemirror_mode": {
    "name": "ipython",
    "version": 3
   },
   "file_extension": ".py",
   "mimetype": "text/x-python",
   "name": "python",
   "nbconvert_exporter": "python",
   "pygments_lexer": "ipython3",
   "version": "3.8.1"
  }
 },
 "nbformat": 4,
 "nbformat_minor": 4
}
